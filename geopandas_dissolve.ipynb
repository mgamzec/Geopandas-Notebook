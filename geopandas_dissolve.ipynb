{
 "cells": [
  {
   "cell_type": "markdown",
   "metadata": {},
   "source": [
    "# Aggregating features with dissolve\n",
    "\n",
    "In GeoPandas we have a low level method that will do a dissolve of the geometry on a geoseries called unary_union which we have discussed previously and this is a useful method. This is what GeoPandas is using under the hood.\n",
    "\n",
    "But we also have a higher level method called dissolve that will allow dissolving by category and return a new GeoDataFrame that can optionally include some aggregate statistics from the polygons that were aggregated."
   ]
  },
  {
   "cell_type": "code",
   "execution_count": null,
   "metadata": {},
   "outputs": [],
   "source": [
    "%matplotlib inline\n",
    "import geopandas as gpd"
   ]
  },
  {
   "cell_type": "code",
   "execution_count": null,
   "metadata": {},
   "outputs": [],
   "source": [
    "buowl = gpd.read_file(\"data/BUOWL_Habitat.shp\")\n",
    "buowl['hist_occup'].value_counts()"
   ]
  },
  {
   "cell_type": "markdown",
   "metadata": {},
   "source": [
    "And I called the value_counts method on the hist_occup column. This not only returns unique values but the number of each unique value in the DataFrame"
   ]
  },
  {
   "cell_type": "markdown",
   "metadata": {},
   "source": [
    "Now lets look at the help info on the dissolve function"
   ]
  },
  {
   "cell_type": "code",
   "execution_count": null,
   "metadata": {},
   "outputs": [],
   "source": [
    "help(buowl.dissolve)"
   ]
  },
  {
   "cell_type": "markdown",
   "metadata": {},
   "source": [
    "Although the documentation appears to indicate that the by parameter is optional and you could just call the dissolve method with no parmeters to dissolve all the features into a single multi-polygon I get an error when I try to do that.  But we can easily dissolve all the  geometries into a single geometry by calling the unary_union method on the GeoSeries. "
   ]
  },
  {
   "cell_type": "code",
   "execution_count": null,
   "metadata": {},
   "outputs": [],
   "source": [
    "buowl_dissolved = buowl['geometry'].unary_union\n",
    "buowl_dissolved"
   ]
  },
  {
   "cell_type": "markdown",
   "metadata": {},
   "source": [
    "If I dissolve on the field hist_occup I will end up with a GeoDataFrame containing two features because the hist_occup field has two unique values.  One will contain all the merged geometries where hist_occup = 'Yes' and the other the merged geometries where hist_occup = 'Undetermined'"
   ]
  },
  {
   "cell_type": "code",
   "execution_count": null,
   "metadata": {},
   "outputs": [],
   "source": [
    "buowl_by_ho = buowl.dissolve(by='hist_occup')\n",
    "buowl_by_ho"
   ]
  },
  {
   "cell_type": "markdown",
   "metadata": {},
   "source": [
    "I can also specify an aggregate function to include.  Using count for instance will show how many buowl polygons were aggregated to form the new polygons."
   ]
  },
  {
   "cell_type": "code",
   "execution_count": null,
   "metadata": {},
   "outputs": [],
   "source": [
    "buowl_by_ho = buowl.dissolve(by='hist_occup', aggfunc='count')\n",
    "buowl_by_ho"
   ]
  },
  {
   "cell_type": "markdown",
   "metadata": {},
   "source": [
    "If I want more than one aggregate function I could pass a list of the function names to the aggfunc parameter"
   ]
  },
  {
   "cell_type": "code",
   "execution_count": null,
   "metadata": {},
   "outputs": [],
   "source": [
    "buowl_by_ho = buowl.dissolve(by='hist_occup', aggfunc=['count', 'mean', 'std'])\n",
    "buowl_by_ho"
   ]
  },
  {
   "cell_type": "code",
   "execution_count": null,
   "metadata": {},
   "outputs": [],
   "source": []
  },
  {
   "cell_type": "code",
   "execution_count": null,
   "metadata": {},
   "outputs": [],
   "source": []
  }
 ],
 "metadata": {
  "kernelspec": {
   "display_name": "Python 3 (ipykernel)",
   "language": "python",
   "name": "python3"
  },
  "language_info": {
   "codemirror_mode": {
    "name": "ipython",
    "version": 3
   },
   "file_extension": ".py",
   "mimetype": "text/x-python",
   "name": "python",
   "nbconvert_exporter": "python",
   "pygments_lexer": "ipython3",
   "version": "3.10.9"
  }
 },
 "nbformat": 4,
 "nbformat_minor": 4
}
