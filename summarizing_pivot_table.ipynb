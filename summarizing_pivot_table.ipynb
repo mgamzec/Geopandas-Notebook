{
 "cells": [
  {
   "cell_type": "markdown",
   "metadata": {},
   "source": [
    "# Pivot tables\n",
    "\n",
    "Pandas group by method provides a powerful and flexible way to summarize a dataframe.  The groupby method will feel right at home to those who are familiar with databases and SQL.\n",
    "\n",
    "Pandas also provides another method for summarizing a dataframe called pivot_table that performs a lot of the same functions. You can produce many of the same results with a pivot_table as you can with the groupby method.  The pivot_table method may be more comfortable to those with a spreadsheet background who are familiar with pivot tables in spreadsheets."
   ]
  },
  {
   "cell_type": "code",
   "execution_count": null,
   "metadata": {},
   "outputs": [],
   "source": [
    "%matplotlib inline\n",
    "import geopandas as gpd\n",
    "\n",
    "raptor_buffer = gpd.read_file('data/intersections.gpkg', layer = 'raptor_buffer')\n",
    "raptor_buffer.sort_values('Nest_ID').head()"
   ]
  },
  {
   "cell_type": "code",
   "execution_count": null,
   "metadata": {},
   "outputs": [],
   "source": [
    "raptor_buffer.groupby(['Project']).sum().head()"
   ]
  },
  {
   "cell_type": "markdown",
   "metadata": {},
   "source": [
    "We can replicate this output using the pivot_table method.  **NOTE:** The pivot_table method is called on the Pandas object itself rather than a dataframe.\n",
    "\n",
    "We have to pass in the dataframe as the first parameter, the column to use as the index, and the name of the aggfunc that ypu want to use for summarization."
   ]
  },
  {
   "cell_type": "code",
   "execution_count": null,
   "metadata": {},
   "outputs": [],
   "source": [
    "import pandas as pd\n",
    "\n",
    "pd.pivot_table(raptor_buffer, index='Project', aggfunc='sum').head()"
   ]
  },
  {
   "cell_type": "markdown",
   "metadata": {},
   "source": [
    "If you don't want to see a sum of ALL the numeric columns you can restrict the columns to a single one or a list of columns using the values parameter."
   ]
  },
  {
   "cell_type": "code",
   "execution_count": null,
   "metadata": {},
   "outputs": [],
   "source": [
    "pd.pivot_table(raptor_buffer, index='Project', values='area_ha', aggfunc='sum').head()"
   ]
  },
  {
   "cell_type": "code",
   "execution_count": null,
   "metadata": {},
   "outputs": [],
   "source": [
    "pd.pivot_table(raptor_buffer, index='Project', values=['area_ha', 'length_m'], aggfunc='sum').head()"
   ]
  },
  {
   "cell_type": "markdown",
   "metadata": {},
   "source": [
    "Most of the other parameters can be included as a single value or a list as well. Lets add another level of indexing."
   ]
  },
  {
   "cell_type": "code",
   "execution_count": null,
   "metadata": {},
   "outputs": [],
   "source": [
    "pd.pivot_table(raptor_buffer, index=['Project', 'recentspec'], values=['area_ha', 'length_m'], aggfunc='sum').head()"
   ]
  },
  {
   "cell_type": "markdown",
   "metadata": {},
   "source": [
    "Lets add another aggregate function as well."
   ]
  },
  {
   "cell_type": "code",
   "execution_count": null,
   "metadata": {},
   "outputs": [],
   "source": [
    "pd.pivot_table(raptor_buffer, index=['Project', 'recentspec'], values=['area_ha', 'length_m'], aggfunc=['sum', 'count']).head()"
   ]
  },
  {
   "cell_type": "markdown",
   "metadata": {},
   "source": [
    "Further subdividing of columns can be achieved using the columns parameter.  This will take a categorical variable and produce the same output for each variable. Lets use the recentstat column."
   ]
  },
  {
   "cell_type": "code",
   "execution_count": null,
   "metadata": {},
   "outputs": [],
   "source": [
    "pd.pivot_table(raptor_buffer, index=['Project', 'recentspec'], values=['area_ha', 'length_m'], columns='recentstat', aggfunc=['sum', 'count']).head()"
   ]
  },
  {
   "cell_type": "markdown",
   "metadata": {},
   "source": [
    "In my opinion however, I think it would be preferabble to add this as another level of index which would provide the same results but foramtted differently."
   ]
  },
  {
   "cell_type": "code",
   "execution_count": null,
   "metadata": {},
   "outputs": [],
   "source": [
    "pd.pivot_table(raptor_buffer, index=['Project', 'recentspec', 'recentstat'], values=['area_ha', 'length_m'], aggfunc=['sum', 'count']).head()"
   ]
  },
  {
   "cell_type": "markdown",
   "metadata": {},
   "source": [
    "If you want to total each column you can set the marigins parameter to True"
   ]
  },
  {
   "cell_type": "code",
   "execution_count": null,
   "metadata": {},
   "outputs": [],
   "source": [
    "pd.pivot_table(raptor_buffer, index=['Project', 'recentspec', 'recentstat'], values=['area_ha', 'length_m'], margins=True, aggfunc=['sum', 'count'])"
   ]
  },
  {
   "cell_type": "markdown",
   "metadata": {},
   "source": [
    "The transpose() method can be applied to any dataframe in order to switch the index and columns. If is most useful on smaller dataframes such as those that result from summary methods.  Lets remove the Project column from indexes to create a smaller data frame."
   ]
  },
  {
   "cell_type": "code",
   "execution_count": null,
   "metadata": {},
   "outputs": [],
   "source": [
    "pd.pivot_table(raptor_buffer, index=['recentspec', 'recentstat'], values=['area_ha', 'length_m'], aggfunc=['sum', 'count'])"
   ]
  },
  {
   "cell_type": "markdown",
   "metadata": {},
   "source": [
    "and then transpose it."
   ]
  },
  {
   "cell_type": "code",
   "execution_count": null,
   "metadata": {},
   "outputs": [],
   "source": [
    "pd.pivot_table(raptor_buffer, index=['recentspec', 'recentstat'], values=['area_ha', 'length_m'], aggfunc=['sum', 'count']).transpose()"
   ]
  },
  {
   "cell_type": "code",
   "execution_count": null,
   "metadata": {},
   "outputs": [],
   "source": []
  }
 ],
 "metadata": {
  "kernelspec": {
   "display_name": "Python 3 (ipykernel)",
   "language": "python",
   "name": "python3"
  },
  "language_info": {
   "codemirror_mode": {
    "name": "ipython",
    "version": 3
   },
   "file_extension": ".py",
   "mimetype": "text/x-python",
   "name": "python",
   "nbconvert_exporter": "python",
   "pygments_lexer": "ipython3",
   "version": "3.10.9"
  }
 },
 "nbformat": 4,
 "nbformat_minor": 4
}
